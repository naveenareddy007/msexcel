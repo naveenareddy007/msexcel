{
 "cells": [
  {
   "cell_type": "code",
   "execution_count": 1,
   "id": "5d43e97c",
   "metadata": {},
   "outputs": [
    {
     "name": "stdout",
     "output_type": "stream",
     "text": [
      "        ship_mode  sales  profit  surcharge  total_cost\n",
      "0        Same Day   1000     200       0.20       960.0\n",
      "1     First Class    800     150       0.10       715.0\n",
      "2  Standard Class   1200     300       0.05       945.0\n",
      "3    Second Class   1500     250       0.00      1250.0\n"
     ]
    }
   ],
   "source": [
    "\n",
    "\n",
    "import pandas as pd\n",
    "\n",
    "# Sample data for illustration\n",
    "data = {\n",
    "    'ship_mode': [\"Same Day\", \"First Class\", \"Standard Class\", \"Second Class\"],\n",
    "    'sales': [1000, 800, 1200, 1500],\n",
    "    'profit': [200, 150, 300, 250]\n",
    "}\n",
    "\n",
    "# Create a DataFrame from the sample data\n",
    "df = pd.DataFrame(data)\n",
    "\n",
    "# Define a function to calculate the surcharge based on the ship_mode\n",
    "def calculate_surcharge(ship_mode):\n",
    "    if ship_mode == \"Same Day\":\n",
    "        return 0.2\n",
    "    elif ship_mode == \"First Class\":\n",
    "        return 0.1\n",
    "    elif ship_mode == \"Standard Class\":\n",
    "        return 0.05\n",
    "    else:\n",
    "        return 0\n",
    "\n",
    "# Apply the function to create the 'surcharge' column\n",
    "df['surcharge'] = df['ship_mode'].apply(calculate_surcharge)\n",
    "\n",
    "# Calculate the 'total cost' column using the formula\n",
    "df['total_cost'] = (df['sales'] - df['profit']) * (1 + df['surcharge'])\n",
    "\n",
    "print(df)\n",
    "\n"
   ]
  },
  {
   "cell_type": "code",
   "execution_count": null,
   "id": "32f876d3",
   "metadata": {},
   "outputs": [],
   "source": []
  }
 ],
 "metadata": {
  "kernelspec": {
   "display_name": "Python 3 (ipykernel)",
   "language": "python",
   "name": "python3"
  },
  "language_info": {
   "codemirror_mode": {
    "name": "ipython",
    "version": 3
   },
   "file_extension": ".py",
   "mimetype": "text/x-python",
   "name": "python",
   "nbconvert_exporter": "python",
   "pygments_lexer": "ipython3",
   "version": "3.10.9"
  }
 },
 "nbformat": 4,
 "nbformat_minor": 5
}
